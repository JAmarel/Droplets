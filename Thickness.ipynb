{
 "cells": [
  {
   "cell_type": "code",
   "execution_count": 1,
   "metadata": {
    "collapsed": true
   },
   "outputs": [],
   "source": [
    "import numpy as np\n",
    "%matplotlib inline\n",
    "import matplotlib.pyplot as plt"
   ]
  },
  {
   "cell_type": "code",
   "execution_count": 2,
   "metadata": {
    "collapsed": false
   },
   "outputs": [],
   "source": [
    "M_Array = np.loadtxt(\"DataSet1.txt\",dtype=int) #Main Array"
   ]
  },
  {
   "cell_type": "code",
   "execution_count": 3,
   "metadata": {
    "collapsed": true
   },
   "outputs": [],
   "source": [
    "ExposureTimes = np.array([1/100,1/149,1/200,1/250,1/303,1/345]) #Must be entered in the order data was added to text file\n",
    "N = len(ExposureTimes) #Number of Exposure Times"
   ]
  },
  {
   "cell_type": "code",
   "execution_count": 4,
   "metadata": {
    "collapsed": false
   },
   "outputs": [
    {
     "data": {
      "text/plain": [
       "36.0"
      ]
     },
     "execution_count": 4,
     "metadata": {},
     "output_type": "execute_result"
    }
   ],
   "source": [
    "len(M_Array)/256"
   ]
  },
  {
   "cell_type": "markdown",
   "metadata": {},
   "source": [
    "Take Main Array from notepad and split into each \"Data Point\". Where each data point contains 0-255 information."
   ]
  },
  {
   "cell_type": "code",
   "execution_count": 5,
   "metadata": {
    "collapsed": true
   },
   "outputs": [],
   "source": [
    "C_Array = np.array([M_Array[x:x+256] for x in np.arange(0,len(M_Array),256)]) #Composite Array. Split Main Array every 256 entries"
   ]
  },
  {
   "cell_type": "code",
   "execution_count": 6,
   "metadata": {
    "collapsed": false
   },
   "outputs": [
    {
     "data": {
      "text/plain": [
       "36"
      ]
     },
     "execution_count": 6,
     "metadata": {},
     "output_type": "execute_result"
    }
   ],
   "source": [
    "len(C_Array) #Total Number of Histograms"
   ]
  },
  {
   "cell_type": "markdown",
   "metadata": {},
   "source": [
    "Calculating average intensity per pixel from each histogram"
   ]
  },
  {
   "cell_type": "code",
   "execution_count": 7,
   "metadata": {
    "collapsed": true
   },
   "outputs": [],
   "source": [
    "Avg_C_Array = np.array([np.sum(np.array([a*b for a,b in C_Array[j]]))/np.sum(np.array([C_Array[j][i][1] for \n",
    "                    i in np.arange(len(C_Array[j]))])) for j in np.arange(len(C_Array))])"
   ]
  },
  {
   "cell_type": "markdown",
   "metadata": {},
   "source": [
    "Now group data points by color. Every third, in RGB order."
   ]
  },
  {
   "cell_type": "code",
   "execution_count": 8,
   "metadata": {
    "collapsed": true
   },
   "outputs": [],
   "source": [
    "Red_Array = np.array([Avg_C_Array[x] for x in np.arange(0,len(Avg_C_Array),3)])\n",
    "Green_Array = np.array([Avg_C_Array[x] for x in np.arange(1,len(Avg_C_Array),3)])\n",
    "Blue_Array = np.array([Avg_C_Array[x] for x in np.arange(2,len(Avg_C_Array),3)])"
   ]
  },
  {
   "cell_type": "code",
   "execution_count": 9,
   "metadata": {
    "collapsed": false
   },
   "outputs": [
    {
     "data": {
      "text/plain": [
       "12"
      ]
     },
     "execution_count": 9,
     "metadata": {},
     "output_type": "execute_result"
    }
   ],
   "source": [
    "len(Red_Array) #Number of Histograms Per Color Channel"
   ]
  },
  {
   "cell_type": "markdown",
   "metadata": {},
   "source": [
    "Now split Red_Array every N entries. This gives data for each thickness"
   ]
  },
  {
   "cell_type": "code",
   "execution_count": 10,
   "metadata": {
    "collapsed": false
   },
   "outputs": [],
   "source": [
    "Red_C_Array = np.array([Red_Array[x:x+N] for x in np.arange(0,len(Red_Array),N)])\n",
    "Green_C_Array = np.array([Green_Array[x:x+N] for x in np.arange(0,len(Green_Array),N)])\n",
    "Blue_C_Array = np.array([Blue_Array[x:x+N] for x in np.arange(0,len(Blue_Array),N)])"
   ]
  },
  {
   "cell_type": "code",
   "execution_count": 11,
   "metadata": {
    "collapsed": false
   },
   "outputs": [
    {
     "data": {
      "text/plain": [
       "2"
      ]
     },
     "execution_count": 11,
     "metadata": {},
     "output_type": "execute_result"
    }
   ],
   "source": [
    "len(Red_C_Array) #Number of Thicknesses we took data for"
   ]
  },
  {
   "cell_type": "code",
   "execution_count": 12,
   "metadata": {
    "collapsed": false
   },
   "outputs": [
    {
     "data": {
      "text/plain": [
       "6"
      ]
     },
     "execution_count": 12,
     "metadata": {},
     "output_type": "execute_result"
    }
   ],
   "source": [
    "len(Red_C_Array[0]) #This should be N"
   ]
  },
  {
   "cell_type": "code",
   "execution_count": 24,
   "metadata": {
    "collapsed": false
   },
   "outputs": [
    {
     "name": "stderr",
     "output_type": "stream",
     "text": [
      "C:\\Anaconda3\\lib\\site-packages\\matplotlib\\collections.py:590: FutureWarning: elementwise comparison failed; returning scalar instead, but in the future will perform elementwise comparison\n",
      "  if self._edgecolors == str('face'):\n"
     ]
    },
    {
     "data": {
      "image/png": "[encoded data removed]",
      "text/plain": [
       "<matplotlib.figure.Figure at 0x7268d0>"
      ]
     },
     "metadata": {},
     "output_type": "display_data"
    }
   ],
   "source": [
    "f, (ax1,ax2,ax3) = plt.subplots(3, 1,figsize=(5,10))\n",
    "\n",
    "ax1.spines['right'].set_visible(False)\n",
    "ax1.spines['top'].set_visible(False)\n",
    "ax1.yaxis.set_ticks_position('left')\n",
    "ax1.xaxis.set_ticks_position('bottom')\n",
    "\n",
    "ax2.spines['right'].set_visible(False)\n",
    "ax2.spines['top'].set_visible(False)\n",
    "ax2.yaxis.set_ticks_position('left')\n",
    "ax2.xaxis.set_ticks_position('bottom')\n",
    "\n",
    "ax3.spines['right'].set_visible(False)\n",
    "ax3.spines['top'].set_visible(False)\n",
    "ax3.yaxis.set_ticks_position('left')\n",
    "ax3.xaxis.set_ticks_position('bottom')\n",
    "\n",
    "plt.sca(ax1)\n",
    "for i in np.arange(0,len(Red_C_Array)):\n",
    "    plt.scatter(ExposureTimes,Red_C_Array[i])\n",
    "    plt.title(\"Red Channel\")\n",
    "    plt.xlabel(\"Exposure Time\")\n",
    "    plt.ylabel(\"Intensity [0-255]\")\n",
    "    plt.xlim(0,np.amax(ExposureTimes)*1.1)\n",
    "    \n",
    "plt.sca(ax2)\n",
    "for i in np.arange(0,len(Green_C_Array)):\n",
    "    plt.scatter(ExposureTimes,Green_C_Array[i])\n",
    "    plt.title(\"Green Channel\")\n",
    "    plt.xlabel(\"Exposure Time\")\n",
    "    plt.ylabel(\"Intensity [0-255]\")\n",
    "    plt.xlim(0,np.amax(ExposureTimes)*1.1)\n",
    "\n",
    "plt.sca(ax3)\n",
    "for i in np.arange(0,len(Blue_C_Array)):\n",
    "    plt.scatter(ExposureTimes,Blue_C_Array[i])\n",
    "    plt.title(\"Blue Channel\")\n",
    "    plt.xlabel(\"Exposure Time\")\n",
    "    plt.ylabel(\"Intensity [0-255]\")\n",
    "    plt.xlim(0,np.amax(ExposureTimes)*1.1)\n",
    "\n",
    "    \n",
    "\n",
    "plt.tight_layout()"
   ]
  },
  {
   "cell_type": "code",
   "execution_count": null,
   "metadata": {
    "collapsed": true
   },
   "outputs": [],
   "source": []
  }
 ],
 "metadata": {
  "kernelspec": {
   "display_name": "Python 3",
   "language": "python",
   "name": "python3"
  },
  "language_info": {
   "codemirror_mode": {
    "name": "ipython",
    "version": 3
   },
   "file_extension": ".py",
   "mimetype": "text/x-python",
   "name": "python",
   "nbconvert_exporter": "python",
   "pygments_lexer": "ipython3",
   "version": "3.4.4"
  }
 },
 "nbformat": 4,
 "nbformat_minor": 0
}
