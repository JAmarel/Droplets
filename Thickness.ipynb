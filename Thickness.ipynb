{
 "cells": [
  {
   "cell_type": "code",
   "execution_count": 1,
   "metadata": {
    "collapsed": true
   },
   "outputs": [],
   "source": [
    "import numpy as np\n",
    "%matplotlib inline\n",
    "import matplotlib.pyplot as plt\n",
    "import pandas as pd"
   ]
  },
  {
   "cell_type": "markdown",
   "metadata": {},
   "source": [
    "# New Method (Excel)"
   ]
  },
  {
   "cell_type": "code",
   "execution_count": 2,
   "metadata": {
    "collapsed": false
   },
   "outputs": [],
   "source": [
    "df = pd.read_excel('hsmdata.xlsx', sheetname=None,header=None)"
   ]
  },
  {
   "cell_type": "code",
   "execution_count": 3,
   "metadata": {
    "collapsed": true
   },
   "outputs": [],
   "source": [
    "ExposureTimes = np.array([np.array([df[Sheet][i][0] for i in np.arange(1,df[Sheet].shape[1],6)]) for Sheet in df])\n",
    "#ExposureTimes is an array, where each element of ExposureTimes is itself an array. \n",
    "#Each element of ExposureTimes corresponds to a new sheet/thickness\n",
    "#Each sub array contains the exposure times taken for that thickness"
   ]
  },
  {
   "cell_type": "code",
   "execution_count": 4,
   "metadata": {
    "collapsed": true
   },
   "outputs": [],
   "source": [
    "PixValues = np.arange(0,256)"
   ]
  },
  {
   "cell_type": "code",
   "execution_count": 6,
   "metadata": {
    "collapsed": false
   },
   "outputs": [],
   "source": [
    "RedData = np.array([np.array([df[Sheet][2:][i] for i in np.arange(1,df[Sheet].shape[1],6)]) for Sheet in df])\n",
    "GreenData = np.array([np.array([df[Sheet][2:][i] for i in np.arange(3,df[Sheet].shape[1],6)]) for Sheet in df])\n",
    "BlueData = np.array([np.array([df[Sheet][2:][i] for i in np.arange(5,df[Sheet].shape[1],6)]) for Sheet in df])"
   ]
  },
  {
   "cell_type": "code",
   "execution_count": 120,
   "metadata": {
    "collapsed": true
   },
   "outputs": [],
   "source": [
    "#Array of Each Pixel Value for all thickness at all exposure\n",
    "r = np.array([np.array([np.array([([PixValues[i]]*RedData[k][j][i]) for i in PixValues if RedData[k][j][i]!=0]) \n",
    "              for j in np.arange(0,len(RedData[k]))]) for k in np.arange(0,len(RedData))])\n",
    "\n",
    "#Going from r to rr is just array flattening\n",
    "rr = np.array([np.array([np.array([entry for ar in x[j][i] for entry in ar]) \n",
    "                         for i in np.arange(0,len(x[j]))]) for j in np.arange(0,len(x))])\n",
    "\n",
    "g = np.array([np.array([np.array([([PixValues[i]]*GreenData[k][j][i]) for i in PixValues if GreenData[k][j][i]!=0]) \n",
    "              for j in np.arange(0,len(GreenData[k]))]) for k in np.arange(0,len(GreenData))])\n",
    "\n",
    "gg = np.array([np.array([np.array([entry for ar in x[j][i] for entry in ar]) \n",
    "                         for i in np.arange(0,len(x[j]))]) for j in np.arange(0,len(x))])\n",
    "\n",
    "b = np.array([np.array([np.array([([PixValues[i]]*BlueData[k][j][i]) for i in PixValues if BlueData[k][j][i]!=0]) \n",
    "              for j in np.arange(0,len(BlueData[k]))]) for k in np.arange(0,len(BlueData))])\n",
    "\n",
    "bb = np.array([np.array([np.array([entry for ar in x[j][i] for entry in ar]) \n",
    "                         for i in np.arange(0,len(x[j]))]) for j in np.arange(0,len(x))])"
   ]
  },
  {
   "cell_type": "code",
   "execution_count": 117,
   "metadata": {
    "collapsed": true
   },
   "outputs": [],
   "source": [
    "#STD for all thickness at all espsure\n",
    "STDRedData = np.array([np.array([np.std(rr[j][i]) for i in np.arange(0,len(rr[j]))]) for j in np.arange(0,len(rr))])\n",
    "STDGreenData = np.array([np.array([np.std(gg[j][i]) for i in np.arange(0,len(gg[j]))]) for j in np.arange(0,len(gg))])\n",
    "STDBlueData = np.array([np.array([np.std(bb[j][i]) for i in np.arange(0,len(bb[j]))]) for j in np.arange(0,len(bb))])"
   ]
  },
  {
   "cell_type": "code",
   "execution_count": 118,
   "metadata": {
    "collapsed": false
   },
   "outputs": [],
   "source": [
    "#Weighted Sum Calculations\n",
    "AvgRedData = np.array([np.array([np.sum(np.array([RedData[k][j][i]*PixValues[i] for i in PixValues]))/np.sum(RedData[k][j]) \n",
    "          for j in np.arange(0,len(RedData[k]))]) for k in np.arange(0,len(RedData))])\n",
    "\n",
    "AvgGreenData = np.array([np.array([np.sum(np.array([GreenData[k][j][i]*PixValues[i] for i in PixValues]))/np.sum(GreenData[k][j]) \n",
    "          for j in np.arange(0,len(GreenData[k]))]) for k in np.arange(0,len(GreenData))])\n",
    "\n",
    "AvgBlueData = np.array([np.array([np.sum(np.array([BlueData[k][j][i]*PixValues[i] for i in PixValues]))/np.sum(BlueData[k][j]) \n",
    "          for j in np.arange(0,len(BlueData[k]))]) for k in np.arange(0,len(BlueData))])"
   ]
  },
  {
   "cell_type": "code",
   "execution_count": 119,
   "metadata": {
    "collapsed": false,
    "scrolled": false
   },
   "outputs": [
    {
     "name": "stderr",
     "output_type": "stream",
     "text": [
      "C:\\Anaconda3\\lib\\site-packages\\matplotlib\\collections.py:590: FutureWarning: elementwise comparison failed; returning scalar instead, but in the future will perform elementwise comparison\n",
      "  if self._edgecolors == str('face'):\n"
     ]
    },
    {
     "data": {
      "image/png": "[encoded data removed]",
      "text/plain": [
       "<matplotlib.figure.Figure at 0x8e7a780>"
      ]
     },
     "metadata": {},
     "output_type": "display_data"
    }
   ],
   "source": [
    "f, (ax1,ax2,ax3) = plt.subplots(3, 1,figsize=(5,10))\n",
    "\n",
    "ax1.spines['right'].set_visible(False)\n",
    "ax1.spines['top'].set_visible(False)\n",
    "ax1.yaxis.set_ticks_position('left')\n",
    "ax1.xaxis.set_ticks_position('bottom')\n",
    "\n",
    "ax2.spines['right'].set_visible(False)\n",
    "ax2.spines['top'].set_visible(False)\n",
    "ax2.yaxis.set_ticks_position('left')\n",
    "ax2.xaxis.set_ticks_position('bottom')\n",
    "\n",
    "ax3.spines['right'].set_visible(False)\n",
    "ax3.spines['top'].set_visible(False)\n",
    "ax3.yaxis.set_ticks_position('left')\n",
    "ax3.xaxis.set_ticks_position('bottom')\n",
    "\n",
    "plt.sca(ax1)\n",
    "for i in np.arange(0,len(AvgRedData)):\n",
    "    plt.errorbar(ExposureTimes[i],AvgRedData[i], yerr=STDRedData[i],ls='None',marker='.')\n",
    "    plt.title(\"Red Channel\")\n",
    "    plt.xlabel(\"Exposure Time (s)\")\n",
    "    plt.ylabel(\"Intensity [0-255]\")\n",
    "    plt.xlim(0,np.amax(ExposureTimes[i])*1.1)\n",
    "    \n",
    "plt.sca(ax2)\n",
    "for i in np.arange(0,len(AvgGreenData)):\n",
    "    plt.errorbar(ExposureTimes[i],AvgGreenData[i], yerr=STDGreenData[i],ls='None',marker='.')\n",
    "    plt.title(\"Green Channel\")\n",
    "    plt.xlabel(\"Exposure Time (s)\")\n",
    "    plt.ylabel(\"Intensity [0-255]\")\n",
    "    plt.xlim(0,np.amax(ExposureTimes[i])*1.1)\n",
    "\n",
    "plt.sca(ax3)\n",
    "for i in np.arange(0,len(AvgBlueData)):\n",
    "    plt.errorbar(ExposureTimes[i],AvgBlueData[i], yerr=STDBlueData[i],ls='None',marker='.')\n",
    "    plt.title(\"Blue Channel\")\n",
    "    plt.xlabel(\"Exposure Time (s)\")\n",
    "    plt.ylabel(\"Intensity [0-255]\")\n",
    "    plt.xlim(0,np.amax(ExposureTimes[i])*1.1)\n",
    "\n",
    "    \n",
    "\n",
    "plt.tight_layout()"
   ]
  },
  {
   "cell_type": "markdown",
   "metadata": {},
   "source": [
    "# Old Method (Notepad)"
   ]
  },
  {
   "cell_type": "code",
   "execution_count": 6,
   "metadata": {
    "collapsed": false
   },
   "outputs": [],
   "source": [
    "M_Array = np.loadtxt(\"DataSet1and2.txt\",dtype=int) #Main Array"
   ]
  },
  {
   "cell_type": "code",
   "execution_count": 7,
   "metadata": {
    "collapsed": true
   },
   "outputs": [],
   "source": [
    "ExposureTimes = np.array([1/100,1/149,1/200,1/250,1/303,1/345]) #Must be entered in the order data was added to text file\n",
    "N = len(ExposureTimes) #Number of Exposure Times"
   ]
  },
  {
   "cell_type": "code",
   "execution_count": 8,
   "metadata": {
    "collapsed": false
   },
   "outputs": [
    {
     "data": {
      "text/plain": [
       "90.0"
      ]
     },
     "execution_count": 8,
     "metadata": {},
     "output_type": "execute_result"
    }
   ],
   "source": [
    "len(M_Array)/256"
   ]
  },
  {
   "cell_type": "markdown",
   "metadata": {},
   "source": [
    "Take Main Array from notepad and split into each \"Data Point\". Where each data point contains 0-255 information."
   ]
  },
  {
   "cell_type": "code",
   "execution_count": 9,
   "metadata": {
    "collapsed": true
   },
   "outputs": [],
   "source": [
    "C_Array = np.array([M_Array[x:x+256] for x in np.arange(0,len(M_Array),256)]) #Composite Array. Split Main Array every 256 entries"
   ]
  },
  {
   "cell_type": "code",
   "execution_count": 10,
   "metadata": {
    "collapsed": false
   },
   "outputs": [
    {
     "data": {
      "text/plain": [
       "90"
      ]
     },
     "execution_count": 10,
     "metadata": {},
     "output_type": "execute_result"
    }
   ],
   "source": [
    "len(C_Array) #Total Number of Histograms"
   ]
  },
  {
   "cell_type": "markdown",
   "metadata": {},
   "source": [
    "Calculating average intensity per pixel from each histogram"
   ]
  },
  {
   "cell_type": "code",
   "execution_count": 11,
   "metadata": {
    "collapsed": true
   },
   "outputs": [],
   "source": [
    "Avg_C_Array = np.array([np.sum(np.array([a*b for a,b in C_Array[j]]))/np.sum(np.array([C_Array[j][i][1] for \n",
    "                    i in np.arange(len(C_Array[j]))])) for j in np.arange(len(C_Array))])"
   ]
  },
  {
   "cell_type": "markdown",
   "metadata": {},
   "source": [
    "Now group data points by color. Every third, in RGB order."
   ]
  },
  {
   "cell_type": "code",
   "execution_count": 12,
   "metadata": {
    "collapsed": true
   },
   "outputs": [],
   "source": [
    "Red_Array = np.array([Avg_C_Array[x] for x in np.arange(0,len(Avg_C_Array),3)])\n",
    "Green_Array = np.array([Avg_C_Array[x] for x in np.arange(1,len(Avg_C_Array),3)])\n",
    "Blue_Array = np.array([Avg_C_Array[x] for x in np.arange(2,len(Avg_C_Array),3)])"
   ]
  },
  {
   "cell_type": "code",
   "execution_count": 13,
   "metadata": {
    "collapsed": false
   },
   "outputs": [
    {
     "data": {
      "text/plain": [
       "30"
      ]
     },
     "execution_count": 13,
     "metadata": {},
     "output_type": "execute_result"
    }
   ],
   "source": [
    "len(Red_Array) #Number of Histograms Per Color Channel"
   ]
  },
  {
   "cell_type": "markdown",
   "metadata": {},
   "source": [
    "Now split Red_Array every N entries. This gives data for each thickness"
   ]
  },
  {
   "cell_type": "code",
   "execution_count": 14,
   "metadata": {
    "collapsed": false
   },
   "outputs": [],
   "source": [
    "Red_C_Array = np.array([Red_Array[x:x+N] for x in np.arange(0,len(Red_Array),N)])\n",
    "Green_C_Array = np.array([Green_Array[x:x+N] for x in np.arange(0,len(Green_Array),N)])\n",
    "Blue_C_Array = np.array([Blue_Array[x:x+N] for x in np.arange(0,len(Blue_Array),N)])"
   ]
  },
  {
   "cell_type": "code",
   "execution_count": 15,
   "metadata": {
    "collapsed": false
   },
   "outputs": [
    {
     "data": {
      "text/plain": [
       "5"
      ]
     },
     "execution_count": 15,
     "metadata": {},
     "output_type": "execute_result"
    }
   ],
   "source": [
    "len(Red_C_Array) #Number of Thicknesses we took data for"
   ]
  },
  {
   "cell_type": "code",
   "execution_count": 16,
   "metadata": {
    "collapsed": false
   },
   "outputs": [
    {
     "data": {
      "text/plain": [
       "6"
      ]
     },
     "execution_count": 16,
     "metadata": {},
     "output_type": "execute_result"
    }
   ],
   "source": [
    "len(Red_C_Array[0]) #This should be N"
   ]
  },
  {
   "cell_type": "code",
   "execution_count": 17,
   "metadata": {
    "collapsed": false
   },
   "outputs": [
    {
     "name": "stderr",
     "output_type": "stream",
     "text": [
      "C:\\Anaconda3\\lib\\site-packages\\matplotlib\\collections.py:590: FutureWarning: elementwise comparison failed; returning scalar instead, but in the future will perform elementwise comparison\n",
      "  if self._edgecolors == str('face'):\n"
     ]
    },
    {
     "data": {
      "image/png": "[encoded data removed]",
      "text/plain": [
       "<matplotlib.figure.Figure at 0x9879b0>"
      ]
     },
     "metadata": {},
     "output_type": "display_data"
    }
   ],
   "source": [
    "f, (ax1,ax2,ax3) = plt.subplots(3, 1,figsize=(5,10))\n",
    "\n",
    "ax1.spines['right'].set_visible(False)\n",
    "ax1.spines['top'].set_visible(False)\n",
    "ax1.yaxis.set_ticks_position('left')\n",
    "ax1.xaxis.set_ticks_position('bottom')\n",
    "\n",
    "ax2.spines['right'].set_visible(False)\n",
    "ax2.spines['top'].set_visible(False)\n",
    "ax2.yaxis.set_ticks_position('left')\n",
    "ax2.xaxis.set_ticks_position('bottom')\n",
    "\n",
    "ax3.spines['right'].set_visible(False)\n",
    "ax3.spines['top'].set_visible(False)\n",
    "ax3.yaxis.set_ticks_position('left')\n",
    "ax3.xaxis.set_ticks_position('bottom')\n",
    "\n",
    "plt.sca(ax1)\n",
    "for i in np.arange(0,len(Red_C_Array)):\n",
    "    plt.scatter(ExposureTimes,Red_C_Array[i])\n",
    "    plt.title(\"Red Channel\")\n",
    "    plt.xlabel(\"Exposure Time\")\n",
    "    plt.ylabel(\"Intensity [0-255]\")\n",
    "    plt.xlim(0,np.amax(ExposureTimes)*1.1)\n",
    "    \n",
    "plt.sca(ax2)\n",
    "for i in np.arange(0,len(Green_C_Array)):\n",
    "    plt.scatter(ExposureTimes,Green_C_Array[i])\n",
    "    plt.title(\"Green Channel\")\n",
    "    plt.xlabel(\"Exposure Time\")\n",
    "    plt.ylabel(\"Intensity [0-255]\")\n",
    "    plt.xlim(0,np.amax(ExposureTimes)*1.1)\n",
    "\n",
    "plt.sca(ax3)\n",
    "for i in np.arange(0,len(Blue_C_Array)):\n",
    "    plt.scatter(ExposureTimes,Blue_C_Array[i])\n",
    "    plt.title(\"Blue Channel\")\n",
    "    plt.xlabel(\"Exposure Time\")\n",
    "    plt.ylabel(\"Intensity [0-255]\")\n",
    "    plt.xlim(0,np.amax(ExposureTimes)*1.1)\n",
    "\n",
    "    \n",
    "\n",
    "plt.tight_layout()"
   ]
  },
  {
   "cell_type": "code",
   "execution_count": null,
   "metadata": {
    "collapsed": true
   },
   "outputs": [],
   "source": []
  }
 ],
 "metadata": {
  "kernelspec": {
   "display_name": "Python 3",
   "language": "python",
   "name": "python3"
  },
  "language_info": {
   "codemirror_mode": {
    "name": "ipython",
    "version": 3
   },
   "file_extension": ".py",
   "mimetype": "text/x-python",
   "name": "python",
   "nbconvert_exporter": "python",
   "pygments_lexer": "ipython3",
   "version": "3.4.4"
  }
 },
 "nbformat": 4,
 "nbformat_minor": 0
}
